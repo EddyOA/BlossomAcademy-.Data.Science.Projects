{
 "cells": [
  {
   "cell_type": "markdown",
   "id": "1971db0e",
   "metadata": {},
   "source": [
    "### Q1\n",
    "List the basic data types in python and give one example each."
   ]
  },
  {
   "cell_type": "code",
   "execution_count": 1,
   "id": "6c25a697",
   "metadata": {},
   "outputs": [],
   "source": [
    "string : \"Eddy\"\n",
    "integer : 8\n",
    "Boolean : True \n",
    "Float : 8.6\n"
   ]
  },
  {
   "cell_type": "markdown",
   "id": "4a2be5ba",
   "metadata": {},
   "source": [
    "### Q2\n",
    "Change the variable x = 4539.85 to :\n",
    "\n",
    "(i) a string and assign it to a new variable y,\n",
    "\n",
    "(ii) an integer and assign it to a new variable z\n",
    "\n",
    "Print out the type of y and z."
   ]
  },
  {
   "cell_type": "code",
   "execution_count": 4,
   "id": "9a0c548d",
   "metadata": {},
   "outputs": [
    {
     "name": "stdout",
     "output_type": "stream",
     "text": [
      "4539.85\n",
      "4539\n"
     ]
    },
    {
     "data": {
      "text/plain": [
       "int"
      ]
     },
     "execution_count": 4,
     "metadata": {},
     "output_type": "execute_result"
    }
   ],
   "source": [
    "x = 4539.85\n",
    "y = str(x)\n",
    "z = int(x)\n",
    "\n",
    "print(x)\n",
    "print(z)\n",
    "type(y)\n",
    "type(z)\n"
   ]
  },
  {
   "cell_type": "markdown",
   "id": "24eeb09d",
   "metadata": {},
   "source": [
    "### Q3\n",
    "\n",
    "What data type would you use to store \n",
    "\n",
    "a. The price of car? : Float\n",
    "\n",
    "b. The age of a person : integer\n",
    "\n",
    "c. car plate number: plateNumber = \"AV01-AFP\"? : String\n",
    "\n",
    "d. The price of fuel : Float\n",
    "\n",
    "e. The number of students in the class : Integer\n",
    "\n",
    "f. The weight of a person : Float\n",
    "\n",
    "g. Check whether two figures are equal : Boolean\n",
    "\n",
    "i. The name of a  school : String\n",
    "\n",
    "j. The average result of the overall score of a student : Float\n",
    "\n",
    "k. The total number of vote cast : Integer\n",
    "\n"
   ]
  },
  {
   "cell_type": "markdown",
   "id": "fad01648",
   "metadata": {},
   "source": [
    "### Q4\n",
    "**Thomas Partey is arguably the best player in the Black Stars. He is a great addition to the team**\n",
    "\n",
    "Split the statement above into **two statement_1** and **statement_2** such that statement_1 will be 'Thomas Partey is arguably the best player in the Black Stars' and statement_2 will be 'He is a great addition to the team'\n",
    "\n",
    "Statement:\n",
    "\n",
    "- **What is the length of statment 1?**\n",
    "-**What is the length of statment 2?**\n",
    "-**Is the length of statement 1 greater than statement 2**"
   ]
  },
  {
   "cell_type": "code",
   "execution_count": 64,
   "id": "fa21ef9e",
   "metadata": {},
   "outputs": [
    {
     "name": "stdout",
     "output_type": "stream",
     "text": [
      "Thomas Partey is arguably the best player in the Black Stars\n",
      " He is a great addition to the team\n",
      "60\n",
      "35\n"
     ]
    },
    {
     "data": {
      "text/plain": [
       "True"
      ]
     },
     "execution_count": 64,
     "metadata": {},
     "output_type": "execute_result"
    }
   ],
   "source": [
    "A = \"Thomas Partey is arguably the best player in the Black Stars. He is a great addition to the team\"\n",
    "B = A.split(\".\")\n",
    "#print(B)\n",
    "statement_1 = B[0]\n",
    "statement_2 = B[1]\n",
    "print(statement_1 )\n",
    "print(statement_2)\n",
    "\n",
    "print(len(statement_1))\n",
    "print(len(statement_2))\n",
    "\n",
    "len(statement_1)> len(statement_2)"
   ]
  },
  {
   "cell_type": "markdown",
   "id": "bd95fb63",
   "metadata": {},
   "source": [
    "### Q5\n",
    "What values does python use to represent **True** and **False** respectively?\n",
    "True : 1, False : 0"
   ]
  },
  {
   "cell_type": "code",
   "execution_count": null,
   "id": "4eb3d22a",
   "metadata": {},
   "outputs": [],
   "source": [
    "### Q6\n",
    "Write a code to evaluate if the following statments are True or False.\n",
    "\n",
    "1. 78 is greater than 46 and less than 30 which is an odd number.\n",
    "\n",
    "2. 8-2 is an even number or 8 is a is an odd number.\n",
    "\n",
    "3. The number of characters in the word 'boostrap' is 7 and that of 'sample' is 6."
   ]
  },
  {
   "cell_type": "code",
   "execution_count": 18,
   "id": "0a13a390",
   "metadata": {},
   "outputs": [
    {
     "data": {
      "text/plain": [
       "False"
      ]
     },
     "execution_count": 18,
     "metadata": {},
     "output_type": "execute_result"
    }
   ],
   "source": [
    "79 > 46 and 78 < 30 and 30%2 == 1\n"
   ]
  },
  {
   "cell_type": "code",
   "execution_count": 19,
   "id": "f3c73f45",
   "metadata": {},
   "outputs": [
    {
     "data": {
      "text/plain": [
       "True"
      ]
     },
     "execution_count": 19,
     "metadata": {},
     "output_type": "execute_result"
    }
   ],
   "source": [
    " E = 8-2 \n",
    "(E%2 == 0) or (E%2 == 1)"
   ]
  },
  {
   "cell_type": "code",
   "execution_count": 23,
   "id": "33dea307",
   "metadata": {},
   "outputs": [
    {
     "data": {
      "text/plain": [
       "False"
      ]
     },
     "execution_count": 23,
     "metadata": {},
     "output_type": "execute_result"
    }
   ],
   "source": [
    "b = \"boostrap\"\n",
    "s = \"sample\"\n",
    "\n",
    "len(b) ==7 and len(s) == 6"
   ]
  },
  {
   "cell_type": "code",
   "execution_count": null,
   "id": "cdadbfaa",
   "metadata": {},
   "outputs": [],
   "source": [
    "### Q7\n",
    "Given the following python code,\n",
    "\n",
    "`word='Hello, How are you?'`\n",
    "\n",
    "Write Python code to return the following\n",
    "\n",
    "- How\n",
    "- How are you\n",
    "- are\n",
    "- ?\n",
    "- Hello, How are you\n",
    "\n",
    "\n",
    " "
   ]
  },
  {
   "cell_type": "code",
   "execution_count": 37,
   "id": "97db9e3b",
   "metadata": {},
   "outputs": [],
   "source": [
    "word ='Hello, How are you?'"
   ]
  },
  {
   "cell_type": "code",
   "execution_count": 52,
   "id": "8faf6edc",
   "metadata": {},
   "outputs": [
    {
     "name": "stdout",
     "output_type": "stream",
     "text": [
      "How\n",
      "How are you\n",
      " are\n",
      "?\n",
      "Hello, How are you\n"
     ]
    }
   ],
   "source": [
    "print(word[7:10])\n",
    "print(word[7:18])\n",
    "print(word[10:14])\n",
    "print(word[-1])\n",
    "print(word[:-1])"
   ]
  },
  {
   "cell_type": "code",
   "execution_count": null,
   "id": "94c64906",
   "metadata": {},
   "outputs": [],
   "source": [
    "### Q8\n",
    "Given the following python code,\n",
    "\n",
    "`sentence = \"I am very excited\"`\n",
    "\n",
    "Write Python code to return \n",
    "- Convert sentence to upper case\n",
    "- Convert sentence to lower case\n",
    "- Convert sentence to title case\n",
    "- Convert sentence to list of strings\n",
    " "
   ]
  },
  {
   "cell_type": "code",
   "execution_count": 69,
   "id": "8215f7bd",
   "metadata": {},
   "outputs": [
    {
     "name": "stdout",
     "output_type": "stream",
     "text": [
      "I AM VERY EXCITED\n",
      "i am very excited\n",
      "I Am Very Excited\n",
      "I am very excited\n"
     ]
    }
   ],
   "source": [
    "sentence = \"I am very excited\"\n",
    "print(sentence.upper())\n",
    "print(sentence.lower())\n",
    "print(sentence.title())\n",
    "print(sentence.capitalize())\n"
   ]
  },
  {
   "cell_type": "code",
   "execution_count": null,
   "id": "21104aa0",
   "metadata": {},
   "outputs": [],
   "source": [
    "### Q9\n",
    "`word = 'OneThirtyEight'`\n",
    "\n",
    "Using Python code extract the following from the variable word:\n",
    "- One\n",
    "- Thirty\n",
    "- Eight\n",
    "- OneThirty\n",
    "- ThirtyEight\n",
    "- ONETHIRTYEIGHT"
   ]
  },
  {
   "cell_type": "code",
   "execution_count": 81,
   "id": "0649362c",
   "metadata": {},
   "outputs": [
    {
     "name": "stdout",
     "output_type": "stream",
     "text": [
      "One\n",
      "Thirty\n",
      "OneThirty\n",
      "ThirtyEight\n",
      "ONETHIRTYEIGHT\n"
     ]
    }
   ],
   "source": [
    "word = 'OneThirtyEight'\n",
    "print(word[:3])\n",
    "print(word[3:9])\n",
    "print(word[:9])\n",
    "print(word[3:])\n",
    "print(word.upper())"
   ]
  },
  {
   "cell_type": "markdown",
   "id": "2a4eea1f",
   "metadata": {},
   "source": [
    "### Q10\n",
    "Turn Ault'Kelly into a string and assign it to a variable  called name."
   ]
  },
  {
   "cell_type": "code",
   "execution_count": 82,
   "id": "aa2f0a08",
   "metadata": {},
   "outputs": [
    {
     "name": "stdout",
     "output_type": "stream",
     "text": [
      "Ault'Kelly\n"
     ]
    }
   ],
   "source": [
    "name = \"Ault'Kelly\"\n",
    "print(name)\n"
   ]
  },
  {
   "cell_type": "code",
   "execution_count": null,
   "id": "720b1e24",
   "metadata": {},
   "outputs": [],
   "source": []
  }
 ],
 "metadata": {
  "kernelspec": {
   "display_name": "Python 3 (ipykernel)",
   "language": "python",
   "name": "python3"
  },
  "language_info": {
   "codemirror_mode": {
    "name": "ipython",
    "version": 3
   },
   "file_extension": ".py",
   "mimetype": "text/x-python",
   "name": "python",
   "nbconvert_exporter": "python",
   "pygments_lexer": "ipython3",
   "version": "3.10.9"
  }
 },
 "nbformat": 4,
 "nbformat_minor": 5
}
