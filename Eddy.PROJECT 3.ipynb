{
 "cells": [
  {
   "cell_type": "code",
   "execution_count": null,
   "id": "40f76b43",
   "metadata": {},
   "outputs": [],
   "source": [
    "Multiply, add, subtract, divide"
   ]
  },
  {
   "cell_type": "code",
   "execution_count": 134,
   "id": "b3cecd95",
   "metadata": {},
   "outputs": [],
   "source": [
    "class Calculator:\n",
    "    \n",
    " \n",
    "    \n",
    " \n",
    "  \n",
    "    def __init__(self, value1, value2):\n",
    "        self.value1 = value1\n",
    "        self.value2 = value2\n",
    "    \n",
    "    \n",
    "    def multiply(self):\n",
    "        return self.value1 * self.value2\n",
    "    \n",
    "    def add(self):\n",
    "        return self.value1 + self.value2\n",
    "       \n",
    "    \n",
    "    def subtract(self):\n",
    "        return self.value1 - self.value2\n",
    "    \n",
    "    def divide(self):\n",
    "        if self.value2 == 0:\n",
    "            print(\"ZeroDivisionError\")\n",
    "        else:\n",
    "            self.value1 / self.value2\n",
    "    \n",
    "    "
   ]
  },
  {
   "cell_type": "code",
   "execution_count": 135,
   "id": "6c57b462",
   "metadata": {},
   "outputs": [],
   "source": [
    "Even=Calculator(5,0)"
   ]
  },
  {
   "cell_type": "code",
   "execution_count": null,
   "id": "73d95c03",
   "metadata": {},
   "outputs": [],
   "source": []
  },
  {
   "cell_type": "code",
   "execution_count": 112,
   "id": "dd2a0ded",
   "metadata": {},
   "outputs": [
    {
     "data": {
      "text/plain": [
       "5"
      ]
     },
     "execution_count": 112,
     "metadata": {},
     "output_type": "execute_result"
    }
   ],
   "source": [
    "Even.value1"
   ]
  },
  {
   "cell_type": "code",
   "execution_count": 136,
   "id": "a453190f",
   "metadata": {},
   "outputs": [
    {
     "name": "stdout",
     "output_type": "stream",
     "text": [
      "ZeroDivisionError\n"
     ]
    }
   ],
   "source": [
    "Even.divide()"
   ]
  },
  {
   "cell_type": "code",
   "execution_count": null,
   "id": "9d7cfcaa",
   "metadata": {},
   "outputs": [],
   "source": []
  },
  {
   "cell_type": "code",
   "execution_count": 119,
   "id": "54570778",
   "metadata": {},
   "outputs": [],
   "source": [
    "class ScientificCalculator(Calculator):\n",
    "    def __init__(self, value1,value2):\n",
    "        super().__init__(value1,value2)\n",
    "        \n",
    "    def exponent(self):\n",
    "        return self.value1**self.value2"
   ]
  },
  {
   "cell_type": "code",
   "execution_count": 120,
   "id": "25d8226f",
   "metadata": {},
   "outputs": [],
   "source": [
    "Science=ScientificCalculator(9,10)"
   ]
  },
  {
   "cell_type": "code",
   "execution_count": 121,
   "id": "002ec0e4",
   "metadata": {},
   "outputs": [
    {
     "data": {
      "text/plain": [
       "3486784401"
      ]
     },
     "execution_count": 121,
     "metadata": {},
     "output_type": "execute_result"
    }
   ],
   "source": [
    "Science.exponent()"
   ]
  },
  {
   "cell_type": "code",
   "execution_count": null,
   "id": "def832ef",
   "metadata": {},
   "outputs": [],
   "source": [
    "if x = 0:\n",
    "    "
   ]
  },
  {
   "cell_type": "code",
   "execution_count": 122,
   "id": "5a12c316",
   "metadata": {},
   "outputs": [],
   "source": [
    "class Bank:\n",
    "    def __init__(self, name,location):\n",
    "        self.name = name\n",
    "        self.location = location"
   ]
  },
  {
   "cell_type": "code",
   "execution_count": 1,
   "id": "1e1558ff",
   "metadata": {},
   "outputs": [
    {
     "ename": "NameError",
     "evalue": "name 'Bank' is not defined",
     "output_type": "error",
     "traceback": [
      "\u001b[1;31m---------------------------------------------------------------------------\u001b[0m",
      "\u001b[1;31mNameError\u001b[0m                                 Traceback (most recent call last)",
      "Cell \u001b[1;32mIn[1], line 1\u001b[0m\n\u001b[1;32m----> 1\u001b[0m \u001b[38;5;28;01mclass\u001b[39;00m \u001b[38;5;21;01mAccess\u001b[39;00m(\u001b[43mBank\u001b[49m):\n\u001b[0;32m      2\u001b[0m      \u001b[38;5;28;01mdef\u001b[39;00m \u001b[38;5;21m__init__\u001b[39m(\u001b[38;5;28mself\u001b[39m, name,location, country):\n\u001b[0;32m      3\u001b[0m         \u001b[38;5;28msuper\u001b[39m()\u001b[38;5;241m.\u001b[39m\u001b[38;5;21m__init__\u001b[39m(name,location)\n",
      "\u001b[1;31mNameError\u001b[0m: name 'Bank' is not defined"
     ]
    }
   ],
   "source": [
    "class Ecobank(Bank):\n",
    "     def __init__(self, name,location, country):\n",
    "        super().__init__(name,location)\n",
    "        self.country = country"
   ]
  },
  {
   "cell_type": "code",
   "execution_count": 3,
   "id": "e5b0066a",
   "metadata": {},
   "outputs": [
    {
     "ename": "NameError",
     "evalue": "name 'Ecobank' is not defined",
     "output_type": "error",
     "traceback": [
      "\u001b[1;31m---------------------------------------------------------------------------\u001b[0m",
      "\u001b[1;31mNameError\u001b[0m                                 Traceback (most recent call last)",
      "Cell \u001b[1;32mIn[3], line 1\u001b[0m\n\u001b[1;32m----> 1\u001b[0m E\u001b[38;5;241m=\u001b[39m\u001b[43mEcobank\u001b[49m(\u001b[38;5;124m\"\u001b[39m\u001b[38;5;124mEcobank\u001b[39m\u001b[38;5;124m\"\u001b[39m, \u001b[38;5;124m\"\u001b[39m\u001b[38;5;124mAccra\u001b[39m\u001b[38;5;124m\"\u001b[39m, \u001b[38;5;124m\"\u001b[39m\u001b[38;5;124mGhana\u001b[39m\u001b[38;5;124m\"\u001b[39m)\n",
      "\u001b[1;31mNameError\u001b[0m: name 'Ecobank' is not defined"
     ]
    }
   ],
   "source": [
    "E=Ecobank(\"Ecobank\", \"Accra\", \"Ghana\")"
   ]
  },
  {
   "cell_type": "code",
   "execution_count": 129,
   "id": "3d48df87",
   "metadata": {},
   "outputs": [
    {
     "data": {
      "text/plain": [
       "'Ghana'"
      ]
     },
     "execution_count": 129,
     "metadata": {},
     "output_type": "execute_result"
    }
   ],
   "source": [
    "E.country"
   ]
  },
  {
   "cell_type": "code",
   "execution_count": null,
   "id": "d8292330",
   "metadata": {},
   "outputs": [],
   "source": []
  },
  {
   "cell_type": "code",
   "execution_count": null,
   "id": "281a1f56",
   "metadata": {},
   "outputs": [],
   "source": []
  },
  {
   "cell_type": "code",
   "execution_count": null,
   "id": "4b30fb46",
   "metadata": {},
   "outputs": [],
   "source": []
  },
  {
   "cell_type": "code",
   "execution_count": null,
   "id": "59ee9a53",
   "metadata": {},
   "outputs": [],
   "source": []
  }
 ],
 "metadata": {
  "kernelspec": {
   "display_name": "Python 3 (ipykernel)",
   "language": "python",
   "name": "python3"
  },
  "language_info": {
   "codemirror_mode": {
    "name": "ipython",
    "version": 3
   },
   "file_extension": ".py",
   "mimetype": "text/x-python",
   "name": "python",
   "nbconvert_exporter": "python",
   "pygments_lexer": "ipython3",
   "version": "3.10.9"
  }
 },
 "nbformat": 4,
 "nbformat_minor": 5
}
