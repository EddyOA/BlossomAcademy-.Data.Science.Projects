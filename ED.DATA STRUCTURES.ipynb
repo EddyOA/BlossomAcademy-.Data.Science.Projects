{
 "cells": [
  {
   "cell_type": "markdown",
   "id": "3c2e90df",
   "metadata": {},
   "source": [
    "### Q1\n",
    "\n",
    "Name the four built-in data structures in python. Give one examples for each"
   ]
  },
  {
   "cell_type": "code",
   "execution_count": 3,
   "id": "98b8d623",
   "metadata": {},
   "outputs": [],
   "source": [
    "List:[1,2,3,45,6,7]\n",
    "\n",
    "Dictionary:{\"Student_1\":\"Aaron\", \"Student_2\":\"Eddy\", \"Student_3\":\"Keith\", \"Student_4\":\"Joshua\"}\n",
    "\n",
    "Sets:{2,4,6,8,10}\n",
    "\n",
    "Tuples:(1,3,5,7,8)"
   ]
  },
  {
   "cell_type": "markdown",
   "id": "b6e1dd1b",
   "metadata": {},
   "source": [
    "### Q2\n",
    "\n",
    "State two differences between a list and a tuple in Python."
   ]
  },
  {
   "cell_type": "markdown",
   "id": "1763e1ce",
   "metadata": {},
   "source": [
    "Lists are ordered and mutable data structures whilst tuples are ordered and immutable data structures.\n",
    "Operations like insertion and deletion are better performed in lists whilst Tuples are elements can be accessed better"
   ]
  },
  {
   "cell_type": "markdown",
   "id": "815b4e67",
   "metadata": {},
   "source": [
    "### Q3\n",
    "Make a list containing names of five animals with a variable name `animal_list`\n",
    "\n",
    "Write a code for the following:\n",
    "- Print the first two animals\n",
    "- Print the last two animals\n",
    "- Add three extra animals to the variable `animal_list`\n",
    "- Remove the first two animals from the variable `animal_list`\n",
    "- How many animals are in the `animal_list`?\n",
    "- Create a variable animal_set which stores the set of animal_list \n",
    "- How many elements are in the animal_set?\n"
   ]
  },
  {
   "cell_type": "code",
   "execution_count": 19,
   "id": "ff3038cf",
   "metadata": {},
   "outputs": [
    {
     "name": "stdout",
     "output_type": "stream",
     "text": [
      "['Fish', 'Cheetah']\n",
      "['Lion', 'Mouse']\n",
      "['Fish', 'Cheetah', 'Snake', 'Lion', 'Mouse', 'Frog', 'Dog', 'Cat']\n",
      "['Snake', 'Lion', 'Mouse', 'Frog', 'Dog', 'Cat']\n",
      "6\n",
      "{'Lion', 'Cat', 'Frog', 'Dog', 'Mouse', 'Snake'}\n",
      "6\n"
     ]
    }
   ],
   "source": [
    "# Print the first two animals\n",
    "animal_list=[\"Fish\",\"Cheetah\",\"Snake\",\"Lion\",\"Mouse\"]\n",
    "\n",
    "# Print the last two animals\n",
    "print(animal_list[:2])\n",
    "print(animal_list[-2:])\n",
    "\n",
    "# Add three extra animals to the list\n",
    "animal_list.extend([\"Frog\",\"Dog\",\"Cat\"])\n",
    "print(animal_list)\n",
    "\n",
    "# Remove the first two animals from the variable animal_list\n",
    "animal_list.remove(\"Fish\")\n",
    "animal_list.remove(\"Cheetah\")\n",
    "print(animal_list)\n",
    "\n",
    "#How many animals in the list?\n",
    "print(len(animal_list))\n",
    "\n",
    "animal_set = set(animal_list)\n",
    "\n",
    "print(animal_set)\n",
    "\n",
    "print(len(animal_set))\n"
   ]
  },
  {
   "cell_type": "markdown",
   "id": "113c9970",
   "metadata": {},
   "source": [
    "### Q4\n",
    "\n",
    "Given a list:\n",
    "\n",
    "suitcase = [\"sunglasses\", \"hat\", \"passport\", \"laptop\", \"suit\", \"shoes\"]\n",
    "\n",
    "a. Create a list called first containing only the two first items from suitcase.\n",
    "\n",
    "b. Create a list called middle containing only the two middle items from suitcase.\n",
    "\n",
    "c. Create a list called last made up only of the last two items from suitcase."
   ]
  },
  {
   "cell_type": "code",
   "execution_count": 22,
   "id": "3a92bf5e",
   "metadata": {},
   "outputs": [
    {
     "name": "stdout",
     "output_type": "stream",
     "text": [
      "['sunglasses', 'hat', 'passport', 'laptop', 'suit', 'shoes']\n",
      "['sunglasses', 'hat']\n",
      "['passport', 'laptop']\n",
      "['suit', 'shoes']\n"
     ]
    }
   ],
   "source": [
    "suitcase = [\"sunglasses\", \"hat\", \"passport\", \"laptop\", \"suit\", \"shoes\"]\n",
    "print(suitcase)\n",
    "\n",
    "first = suitcase[:2]\n",
    "middle = suitcase[2:4]\n",
    "last= suitcase[-2:]\n",
    "\n",
    "print(first)\n",
    "print(middle)\n",
    "print(last)"
   ]
  },
  {
   "cell_type": "markdown",
   "id": "711ba044",
   "metadata": {},
   "source": [
    "### Q5\n",
    "Write a python code to insert 35 into the list below. Make sure it is inserted in the right position to maintain the order of the data.\n",
    "\n",
    "`values = [20,25,30,40,45,50,55,60,65,70]`"
   ]
  },
  {
   "cell_type": "code",
   "execution_count": 23,
   "id": "ad7eb076",
   "metadata": {},
   "outputs": [
    {
     "name": "stdout",
     "output_type": "stream",
     "text": [
      "[20, 25, 30, 35, 40, 45, 50, 55, 60, 65, 70]\n"
     ]
    }
   ],
   "source": [
    "values = [20,25,30,40,45,50,55,60,65,70]\n",
    "\n",
    "values.insert(3,35)\n",
    "print(values)"
   ]
  },
  {
   "cell_type": "markdown",
   "id": "f535cf64",
   "metadata": {},
   "source": [
    "### Q6\n",
    "\n",
    "Given that Python lists and Python tuples are quite similar – when might you prefer to use a tuple over a list?"
   ]
  },
  {
   "cell_type": "markdown",
   "id": "bbf20c08",
   "metadata": {},
   "source": [
    "Tuples are used when data structures are immutable but ordered."
   ]
  },
  {
   "cell_type": "markdown",
   "id": "346927f6",
   "metadata": {},
   "source": [
    "### Q7\n",
    "Create a dictionary with 5 Ghana regions and their capitals and store it in the variable `region_capital`\n",
    "\n",
    "- Print out the keys of region_capital\n",
    "- Print out the values of region_capital\n"
   ]
  },
  {
   "cell_type": "code",
   "execution_count": 24,
   "id": "51c2b8e2",
   "metadata": {},
   "outputs": [
    {
     "name": "stdout",
     "output_type": "stream",
     "text": [
      "dict_keys(['Eastern', 'Greater Accra', 'Northern', 'Central', 'Ashanti'])\n",
      "dict_values(['Koforidua', 'Accra', 'Tamale', 'Cape Coast', 'Kumasi'])\n"
     ]
    }
   ],
   "source": [
    "region_capital={\"Eastern\":\"Koforidua\",\"Greater Accra\":\"Accra\",\"Northern\":\"Tamale\",\"Central\":\"Cape Coast\",\"Ashanti\":\"Kumasi\"}\n",
    "\n",
    "print(region_capital.keys())\n",
    "print(region_capital.values())"
   ]
  },
  {
   "cell_type": "markdown",
   "id": "70526b3b",
   "metadata": {},
   "source": [
    "### Q8\n",
    "\n",
    "`values = [3,4,5,6,3,4,3,5,2,4,2,5,6,1,6]`\n",
    "\n",
    "Using the codes above answer the following questions:\n",
    "- What is the total number of elements in values?\n",
    "- What is the highest occuring number in the values variable?\n",
    "- Convert values into a set and store it into a variable named `values_set`\n",
    "- How many elements are in the variable values_set?\n"
   ]
  },
  {
   "cell_type": "code",
   "execution_count": 34,
   "id": "e832d08e",
   "metadata": {},
   "outputs": [
    {
     "name": "stdout",
     "output_type": "stream",
     "text": [
      "15\n",
      "{1, 2, 3, 4, 5, 6}\n"
     ]
    },
    {
     "data": {
      "text/plain": [
       "6"
      ]
     },
     "execution_count": 34,
     "metadata": {},
     "output_type": "execute_result"
    }
   ],
   "source": [
    "values=[3,4,5,6,3,4,3,5,2,4,2,5,6,1,6]\n",
    "print(len(values))\n",
    "max(values)\n",
    "values_set = set(values)\n",
    "print(values_set)\n",
    "len(values_set)"
   ]
  },
  {
   "cell_type": "markdown",
   "id": "801d5876",
   "metadata": {},
   "source": [
    "### Q9\n",
    "Write a Python script to print a dictionary where the keys are numbers between 1 and 15 (both included) and the values are the square of the keys."
   ]
  },
  {
   "cell_type": "code",
   "execution_count": 35,
   "id": "c0fc10ef",
   "metadata": {},
   "outputs": [
    {
     "ename": "SyntaxError",
     "evalue": "invalid syntax (928874619.py, line 1)",
     "output_type": "error",
     "traceback": [
      "\u001b[1;36m  Cell \u001b[1;32mIn[35], line 1\u001b[1;36m\u001b[0m\n\u001b[1;33m    for k,v in values;\u001b[0m\n\u001b[1;37m                     ^\u001b[0m\n\u001b[1;31mSyntaxError\u001b[0m\u001b[1;31m:\u001b[0m invalid syntax\n"
     ]
    }
   ],
   "source": [
    "for k,v in values;\n",
    "   a\n",
    "\n",
    "values = [2,3,4,5,6,7,8,9,10,11,12,13,14]"
   ]
  },
  {
   "cell_type": "code",
   "execution_count": null,
   "id": "0fcf3c56",
   "metadata": {},
   "outputs": [],
   "source": [
    "myDict = {x: x**2 for x in [2,3,4,5,6,7,8,9,10,11,12,13,14]}\n",
    "\n",
    "myDict\n"
   ]
  },
  {
   "cell_type": "markdown",
   "id": "18954e57",
   "metadata": {},
   "source": [
    "### Q10\n",
    "Write a Python program to create a dictionary of keys x, y, and z where each key has as value a list from 11-20, 21-30, and 31-40 respectively. Access the fifth value of each key from the dictionary."
   ]
  },
  {
   "cell_type": "code",
   "execution_count": null,
   "id": "fec19820",
   "metadata": {},
   "outputs": [],
   "source": []
  }
 ],
 "metadata": {
  "kernelspec": {
   "display_name": "Python 3 (ipykernel)",
   "language": "python",
   "name": "python3"
  },
  "language_info": {
   "codemirror_mode": {
    "name": "ipython",
    "version": 3
   },
   "file_extension": ".py",
   "mimetype": "text/x-python",
   "name": "python",
   "nbconvert_exporter": "python",
   "pygments_lexer": "ipython3",
   "version": "3.10.9"
  }
 },
 "nbformat": 4,
 "nbformat_minor": 5
}
